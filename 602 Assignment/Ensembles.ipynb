{
 "cells": [
  {
   "cell_type": "markdown",
   "metadata": {},
   "source": [
    "### Importing libraries"
   ]
  },
  {
   "cell_type": "code",
   "execution_count": 1,
   "metadata": {},
   "outputs": [],
   "source": [
    "import pandas as pd\n",
    "import matplotlib.pyplot as plt\n",
    "from sklearn.model_selection import train_test_split\n",
    "from sklearn.linear_model import LogisticRegression\n",
    "from sklearn.tree import DecisionTreeClassifier\n",
    "from sklearn.svm import SVC\n",
    "from sklearn.ensemble import VotingClassifier\n",
    "from sklearn.ensemble import BaggingClassifier\n",
    "from sklearn.ensemble import AdaBoostClassifier\n",
    "from sklearn.pipeline import Pipeline\n",
    "from sklearn.impute import SimpleImputer\n",
    "from sklearn.compose import ColumnTransformer\n",
    "from sklearn.model_selection import cross_val_score\n",
    "from sklearn.preprocessing import StandardScaler, OneHotEncoder\n",
    "from sklearn.model_selection import GridSearchCV\n",
    "from sklearn.metrics import confusion_matrix"
   ]
  },
  {
   "cell_type": "markdown",
   "metadata": {},
   "source": [
    "### Loading the data"
   ]
  },
  {
   "cell_type": "code",
   "execution_count": 2,
   "metadata": {},
   "outputs": [
    {
     "data": {
      "text/html": [
       "<div>\n",
       "<style scoped>\n",
       "    .dataframe tbody tr th:only-of-type {\n",
       "        vertical-align: middle;\n",
       "    }\n",
       "\n",
       "    .dataframe tbody tr th {\n",
       "        vertical-align: top;\n",
       "    }\n",
       "\n",
       "    .dataframe thead th {\n",
       "        text-align: right;\n",
       "    }\n",
       "</style>\n",
       "<table border=\"1\" class=\"dataframe\">\n",
       "  <thead>\n",
       "    <tr style=\"text-align: right;\">\n",
       "      <th></th>\n",
       "      <th>carrier</th>\n",
       "      <th>flight</th>\n",
       "      <th>tailnum</th>\n",
       "      <th>origin</th>\n",
       "      <th>dest</th>\n",
       "      <th>air_time</th>\n",
       "      <th>distance</th>\n",
       "      <th>hour</th>\n",
       "      <th>minute</th>\n",
       "      <th>temp</th>\n",
       "      <th>...</th>\n",
       "      <th>precip</th>\n",
       "      <th>pressure</th>\n",
       "      <th>visib</th>\n",
       "      <th>type</th>\n",
       "      <th>manufacturer</th>\n",
       "      <th>model</th>\n",
       "      <th>engines</th>\n",
       "      <th>seats</th>\n",
       "      <th>engine</th>\n",
       "      <th>arr_delay</th>\n",
       "    </tr>\n",
       "  </thead>\n",
       "  <tbody>\n",
       "    <tr>\n",
       "      <th>0</th>\n",
       "      <td>B6</td>\n",
       "      <td>1201</td>\n",
       "      <td>N643JB</td>\n",
       "      <td>JFK</td>\n",
       "      <td>FLL</td>\n",
       "      <td>135.0</td>\n",
       "      <td>1069</td>\n",
       "      <td>21</td>\n",
       "      <td>50</td>\n",
       "      <td>73.04</td>\n",
       "      <td>...</td>\n",
       "      <td>0.0</td>\n",
       "      <td>1019.4</td>\n",
       "      <td>10.0</td>\n",
       "      <td>Fixed wing multi engine</td>\n",
       "      <td>AIRBUS</td>\n",
       "      <td>A320-232</td>\n",
       "      <td>2.0</td>\n",
       "      <td>200.0</td>\n",
       "      <td>Turbo-fan</td>\n",
       "      <td>1.0</td>\n",
       "    </tr>\n",
       "    <tr>\n",
       "      <th>1</th>\n",
       "      <td>DL</td>\n",
       "      <td>1773</td>\n",
       "      <td>N3743H</td>\n",
       "      <td>JFK</td>\n",
       "      <td>LAS</td>\n",
       "      <td>287.0</td>\n",
       "      <td>2248</td>\n",
       "      <td>15</td>\n",
       "      <td>35</td>\n",
       "      <td>71.06</td>\n",
       "      <td>...</td>\n",
       "      <td>0.0</td>\n",
       "      <td>1020.4</td>\n",
       "      <td>10.0</td>\n",
       "      <td>Fixed wing multi engine</td>\n",
       "      <td>BOEING</td>\n",
       "      <td>737-832</td>\n",
       "      <td>2.0</td>\n",
       "      <td>189.0</td>\n",
       "      <td>Turbo-jet</td>\n",
       "      <td>0.0</td>\n",
       "    </tr>\n",
       "    <tr>\n",
       "      <th>2</th>\n",
       "      <td>EV</td>\n",
       "      <td>4572</td>\n",
       "      <td>N11107</td>\n",
       "      <td>EWR</td>\n",
       "      <td>GSP</td>\n",
       "      <td>84.0</td>\n",
       "      <td>594</td>\n",
       "      <td>15</td>\n",
       "      <td>9</td>\n",
       "      <td>78.80</td>\n",
       "      <td>...</td>\n",
       "      <td>0.0</td>\n",
       "      <td>NaN</td>\n",
       "      <td>5.0</td>\n",
       "      <td>Fixed wing multi engine</td>\n",
       "      <td>EMBRAER</td>\n",
       "      <td>EMB-145XR</td>\n",
       "      <td>2.0</td>\n",
       "      <td>55.0</td>\n",
       "      <td>Turbo-fan</td>\n",
       "      <td>1.0</td>\n",
       "    </tr>\n",
       "    <tr>\n",
       "      <th>3</th>\n",
       "      <td>B6</td>\n",
       "      <td>179</td>\n",
       "      <td>N526JB</td>\n",
       "      <td>JFK</td>\n",
       "      <td>PHX</td>\n",
       "      <td>305.0</td>\n",
       "      <td>2153</td>\n",
       "      <td>17</td>\n",
       "      <td>35</td>\n",
       "      <td>44.06</td>\n",
       "      <td>...</td>\n",
       "      <td>0.0</td>\n",
       "      <td>1009.2</td>\n",
       "      <td>10.0</td>\n",
       "      <td>NaN</td>\n",
       "      <td>NaN</td>\n",
       "      <td>NaN</td>\n",
       "      <td>NaN</td>\n",
       "      <td>NaN</td>\n",
       "      <td>NaN</td>\n",
       "      <td>1.0</td>\n",
       "    </tr>\n",
       "    <tr>\n",
       "      <th>4</th>\n",
       "      <td>US</td>\n",
       "      <td>1733</td>\n",
       "      <td>N162UW</td>\n",
       "      <td>LGA</td>\n",
       "      <td>CLT</td>\n",
       "      <td>78.0</td>\n",
       "      <td>544</td>\n",
       "      <td>7</td>\n",
       "      <td>53</td>\n",
       "      <td>69.98</td>\n",
       "      <td>...</td>\n",
       "      <td>0.0</td>\n",
       "      <td>1021.3</td>\n",
       "      <td>10.0</td>\n",
       "      <td>Fixed wing multi engine</td>\n",
       "      <td>AIRBUS INDUSTRIE</td>\n",
       "      <td>A321-211</td>\n",
       "      <td>2.0</td>\n",
       "      <td>199.0</td>\n",
       "      <td>Turbo-jet</td>\n",
       "      <td>0.0</td>\n",
       "    </tr>\n",
       "  </tbody>\n",
       "</table>\n",
       "<p>5 rows × 25 columns</p>\n",
       "</div>"
      ],
      "text/plain": [
       "  carrier  flight tailnum origin dest  air_time  distance  hour  minute  \\\n",
       "0      B6    1201  N643JB    JFK  FLL     135.0      1069    21      50   \n",
       "1      DL    1773  N3743H    JFK  LAS     287.0      2248    15      35   \n",
       "2      EV    4572  N11107    EWR  GSP      84.0       594    15       9   \n",
       "3      B6     179  N526JB    JFK  PHX     305.0      2153    17      35   \n",
       "4      US    1733  N162UW    LGA  CLT      78.0       544     7      53   \n",
       "\n",
       "    temp  ...  precip  pressure  visib                     type  \\\n",
       "0  73.04  ...     0.0    1019.4   10.0  Fixed wing multi engine   \n",
       "1  71.06  ...     0.0    1020.4   10.0  Fixed wing multi engine   \n",
       "2  78.80  ...     0.0       NaN    5.0  Fixed wing multi engine   \n",
       "3  44.06  ...     0.0    1009.2   10.0                      NaN   \n",
       "4  69.98  ...     0.0    1021.3   10.0  Fixed wing multi engine   \n",
       "\n",
       "       manufacturer      model  engines  seats     engine arr_delay  \n",
       "0            AIRBUS   A320-232      2.0  200.0  Turbo-fan       1.0  \n",
       "1            BOEING    737-832      2.0  189.0  Turbo-jet       0.0  \n",
       "2           EMBRAER  EMB-145XR      2.0   55.0  Turbo-fan       1.0  \n",
       "3               NaN        NaN      NaN    NaN        NaN       1.0  \n",
       "4  AIRBUS INDUSTRIE   A321-211      2.0  199.0  Turbo-jet       0.0  \n",
       "\n",
       "[5 rows x 25 columns]"
      ]
     },
     "execution_count": 2,
     "metadata": {},
     "output_type": "execute_result"
    }
   ],
   "source": [
    "data = pd.read_csv('data.csv')\n",
    "data.head()"
   ]
  },
  {
   "cell_type": "markdown",
   "metadata": {},
   "source": [
    "### EDA"
   ]
  },
  {
   "cell_type": "code",
   "execution_count": 3,
   "metadata": {},
   "outputs": [
    {
     "name": "stdout",
     "output_type": "stream",
     "text": [
      "<class 'pandas.core.frame.DataFrame'>\n",
      "RangeIndex: 10000 entries, 0 to 9999\n",
      "Data columns (total 25 columns):\n",
      " #   Column        Non-Null Count  Dtype  \n",
      "---  ------        --------------  -----  \n",
      " 0   carrier       10000 non-null  object \n",
      " 1   flight        10000 non-null  int64  \n",
      " 2   tailnum       9926 non-null   object \n",
      " 3   origin        10000 non-null  object \n",
      " 4   dest          10000 non-null  object \n",
      " 5   air_time      9716 non-null   float64\n",
      " 6   distance      10000 non-null  int64  \n",
      " 7   hour          10000 non-null  int64  \n",
      " 8   minute        10000 non-null  int64  \n",
      " 9   temp          9952 non-null   float64\n",
      " 10  dewp          9952 non-null   float64\n",
      " 11  humid         9952 non-null   float64\n",
      " 12  wind_dir      9731 non-null   float64\n",
      " 13  wind_speed    9951 non-null   float64\n",
      " 14  wind_gust     2387 non-null   float64\n",
      " 15  precip        9954 non-null   float64\n",
      " 16  pressure      8808 non-null   float64\n",
      " 17  visib         9954 non-null   float64\n",
      " 18  type          8499 non-null   object \n",
      " 19  manufacturer  8499 non-null   object \n",
      " 20  model         8499 non-null   object \n",
      " 21  engines       8499 non-null   float64\n",
      " 22  seats         8499 non-null   float64\n",
      " 23  engine        8499 non-null   object \n",
      " 24  arr_delay     9716 non-null   float64\n",
      "dtypes: float64(13), int64(4), object(8)\n",
      "memory usage: 1.9+ MB\n"
     ]
    }
   ],
   "source": [
    "data.info()"
   ]
  },
  {
   "cell_type": "markdown",
   "metadata": {},
   "source": [
    "### Observations\n",
    "- The columns tailnum, air_time, temp, dewp, humid, wind_dir, wind_speed, wind_gust, precip, pressure, visib, type, manufacturer, model, engines, seats, engine, arr_delay have missing data."
   ]
  },
  {
   "cell_type": "code",
   "execution_count": 4,
   "metadata": {},
   "outputs": [
    {
     "data": {
      "text/html": [
       "<div>\n",
       "<style scoped>\n",
       "    .dataframe tbody tr th:only-of-type {\n",
       "        vertical-align: middle;\n",
       "    }\n",
       "\n",
       "    .dataframe tbody tr th {\n",
       "        vertical-align: top;\n",
       "    }\n",
       "\n",
       "    .dataframe thead th {\n",
       "        text-align: right;\n",
       "    }\n",
       "</style>\n",
       "<table border=\"1\" class=\"dataframe\">\n",
       "  <thead>\n",
       "    <tr style=\"text-align: right;\">\n",
       "      <th></th>\n",
       "      <th>flight</th>\n",
       "      <th>air_time</th>\n",
       "      <th>distance</th>\n",
       "      <th>hour</th>\n",
       "      <th>minute</th>\n",
       "      <th>temp</th>\n",
       "      <th>dewp</th>\n",
       "      <th>humid</th>\n",
       "      <th>wind_dir</th>\n",
       "      <th>wind_speed</th>\n",
       "      <th>wind_gust</th>\n",
       "      <th>precip</th>\n",
       "      <th>pressure</th>\n",
       "      <th>visib</th>\n",
       "      <th>engines</th>\n",
       "      <th>seats</th>\n",
       "      <th>arr_delay</th>\n",
       "    </tr>\n",
       "  </thead>\n",
       "  <tbody>\n",
       "    <tr>\n",
       "      <th>count</th>\n",
       "      <td>10000.000000</td>\n",
       "      <td>9716.000000</td>\n",
       "      <td>10000.000000</td>\n",
       "      <td>10000.000000</td>\n",
       "      <td>10000.000000</td>\n",
       "      <td>9952.000000</td>\n",
       "      <td>9952.000000</td>\n",
       "      <td>9952.000000</td>\n",
       "      <td>9731.000000</td>\n",
       "      <td>9951.000000</td>\n",
       "      <td>2387.00000</td>\n",
       "      <td>9954.000000</td>\n",
       "      <td>8808.000000</td>\n",
       "      <td>9954.000000</td>\n",
       "      <td>8499.000000</td>\n",
       "      <td>8499.000000</td>\n",
       "      <td>9716.000000</td>\n",
       "    </tr>\n",
       "    <tr>\n",
       "      <th>mean</th>\n",
       "      <td>1993.785200</td>\n",
       "      <td>149.771099</td>\n",
       "      <td>1033.036700</td>\n",
       "      <td>13.185300</td>\n",
       "      <td>26.405800</td>\n",
       "      <td>56.885289</td>\n",
       "      <td>41.578652</td>\n",
       "      <td>59.699401</td>\n",
       "      <td>199.824273</td>\n",
       "      <td>11.082228</td>\n",
       "      <td>25.29643</td>\n",
       "      <td>0.004574</td>\n",
       "      <td>1017.805722</td>\n",
       "      <td>9.237887</td>\n",
       "      <td>1.993293</td>\n",
       "      <td>135.897870</td>\n",
       "      <td>0.410045</td>\n",
       "    </tr>\n",
       "    <tr>\n",
       "      <th>std</th>\n",
       "      <td>1637.565161</td>\n",
       "      <td>92.714630</td>\n",
       "      <td>722.747763</td>\n",
       "      <td>4.691094</td>\n",
       "      <td>19.286677</td>\n",
       "      <td>17.967138</td>\n",
       "      <td>19.360524</td>\n",
       "      <td>19.713338</td>\n",
       "      <td>106.234823</td>\n",
       "      <td>5.635370</td>\n",
       "      <td>6.14381</td>\n",
       "      <td>0.033679</td>\n",
       "      <td>7.545151</td>\n",
       "      <td>2.043394</td>\n",
       "      <td>0.097400</td>\n",
       "      <td>72.402517</td>\n",
       "      <td>0.491867</td>\n",
       "    </tr>\n",
       "    <tr>\n",
       "      <th>min</th>\n",
       "      <td>1.000000</td>\n",
       "      <td>21.000000</td>\n",
       "      <td>80.000000</td>\n",
       "      <td>5.000000</td>\n",
       "      <td>0.000000</td>\n",
       "      <td>10.940000</td>\n",
       "      <td>-9.040000</td>\n",
       "      <td>12.740000</td>\n",
       "      <td>0.000000</td>\n",
       "      <td>0.000000</td>\n",
       "      <td>16.11092</td>\n",
       "      <td>0.000000</td>\n",
       "      <td>985.000000</td>\n",
       "      <td>0.060000</td>\n",
       "      <td>1.000000</td>\n",
       "      <td>2.000000</td>\n",
       "      <td>0.000000</td>\n",
       "    </tr>\n",
       "    <tr>\n",
       "      <th>25%</th>\n",
       "      <td>580.750000</td>\n",
       "      <td>81.000000</td>\n",
       "      <td>502.000000</td>\n",
       "      <td>9.000000</td>\n",
       "      <td>9.000000</td>\n",
       "      <td>42.080000</td>\n",
       "      <td>26.060000</td>\n",
       "      <td>43.920000</td>\n",
       "      <td>120.000000</td>\n",
       "      <td>6.904680</td>\n",
       "      <td>20.71404</td>\n",
       "      <td>0.000000</td>\n",
       "      <td>1012.700000</td>\n",
       "      <td>10.000000</td>\n",
       "      <td>2.000000</td>\n",
       "      <td>55.000000</td>\n",
       "      <td>0.000000</td>\n",
       "    </tr>\n",
       "    <tr>\n",
       "      <th>50%</th>\n",
       "      <td>1511.000000</td>\n",
       "      <td>130.000000</td>\n",
       "      <td>872.000000</td>\n",
       "      <td>13.000000</td>\n",
       "      <td>29.000000</td>\n",
       "      <td>57.020000</td>\n",
       "      <td>42.800000</td>\n",
       "      <td>57.990000</td>\n",
       "      <td>220.000000</td>\n",
       "      <td>10.357020</td>\n",
       "      <td>24.16638</td>\n",
       "      <td>0.000000</td>\n",
       "      <td>1017.500000</td>\n",
       "      <td>10.000000</td>\n",
       "      <td>2.000000</td>\n",
       "      <td>149.000000</td>\n",
       "      <td>0.000000</td>\n",
       "    </tr>\n",
       "    <tr>\n",
       "      <th>75%</th>\n",
       "      <td>3514.250000</td>\n",
       "      <td>191.000000</td>\n",
       "      <td>1389.000000</td>\n",
       "      <td>17.000000</td>\n",
       "      <td>45.000000</td>\n",
       "      <td>71.960000</td>\n",
       "      <td>57.920000</td>\n",
       "      <td>75.690000</td>\n",
       "      <td>290.000000</td>\n",
       "      <td>14.960140</td>\n",
       "      <td>28.76950</td>\n",
       "      <td>0.000000</td>\n",
       "      <td>1022.700000</td>\n",
       "      <td>10.000000</td>\n",
       "      <td>2.000000</td>\n",
       "      <td>189.000000</td>\n",
       "      <td>1.000000</td>\n",
       "    </tr>\n",
       "    <tr>\n",
       "      <th>max</th>\n",
       "      <td>6181.000000</td>\n",
       "      <td>648.000000</td>\n",
       "      <td>4983.000000</td>\n",
       "      <td>23.000000</td>\n",
       "      <td>59.000000</td>\n",
       "      <td>100.040000</td>\n",
       "      <td>78.080000</td>\n",
       "      <td>100.000000</td>\n",
       "      <td>360.000000</td>\n",
       "      <td>42.578860</td>\n",
       "      <td>66.74524</td>\n",
       "      <td>1.210000</td>\n",
       "      <td>1042.100000</td>\n",
       "      <td>10.000000</td>\n",
       "      <td>4.000000</td>\n",
       "      <td>400.000000</td>\n",
       "      <td>1.000000</td>\n",
       "    </tr>\n",
       "  </tbody>\n",
       "</table>\n",
       "</div>"
      ],
      "text/plain": [
       "             flight     air_time      distance          hour        minute  \\\n",
       "count  10000.000000  9716.000000  10000.000000  10000.000000  10000.000000   \n",
       "mean    1993.785200   149.771099   1033.036700     13.185300     26.405800   \n",
       "std     1637.565161    92.714630    722.747763      4.691094     19.286677   \n",
       "min        1.000000    21.000000     80.000000      5.000000      0.000000   \n",
       "25%      580.750000    81.000000    502.000000      9.000000      9.000000   \n",
       "50%     1511.000000   130.000000    872.000000     13.000000     29.000000   \n",
       "75%     3514.250000   191.000000   1389.000000     17.000000     45.000000   \n",
       "max     6181.000000   648.000000   4983.000000     23.000000     59.000000   \n",
       "\n",
       "              temp         dewp        humid     wind_dir   wind_speed  \\\n",
       "count  9952.000000  9952.000000  9952.000000  9731.000000  9951.000000   \n",
       "mean     56.885289    41.578652    59.699401   199.824273    11.082228   \n",
       "std      17.967138    19.360524    19.713338   106.234823     5.635370   \n",
       "min      10.940000    -9.040000    12.740000     0.000000     0.000000   \n",
       "25%      42.080000    26.060000    43.920000   120.000000     6.904680   \n",
       "50%      57.020000    42.800000    57.990000   220.000000    10.357020   \n",
       "75%      71.960000    57.920000    75.690000   290.000000    14.960140   \n",
       "max     100.040000    78.080000   100.000000   360.000000    42.578860   \n",
       "\n",
       "        wind_gust       precip     pressure        visib      engines  \\\n",
       "count  2387.00000  9954.000000  8808.000000  9954.000000  8499.000000   \n",
       "mean     25.29643     0.004574  1017.805722     9.237887     1.993293   \n",
       "std       6.14381     0.033679     7.545151     2.043394     0.097400   \n",
       "min      16.11092     0.000000   985.000000     0.060000     1.000000   \n",
       "25%      20.71404     0.000000  1012.700000    10.000000     2.000000   \n",
       "50%      24.16638     0.000000  1017.500000    10.000000     2.000000   \n",
       "75%      28.76950     0.000000  1022.700000    10.000000     2.000000   \n",
       "max      66.74524     1.210000  1042.100000    10.000000     4.000000   \n",
       "\n",
       "             seats    arr_delay  \n",
       "count  8499.000000  9716.000000  \n",
       "mean    135.897870     0.410045  \n",
       "std      72.402517     0.491867  \n",
       "min       2.000000     0.000000  \n",
       "25%      55.000000     0.000000  \n",
       "50%     149.000000     0.000000  \n",
       "75%     189.000000     1.000000  \n",
       "max     400.000000     1.000000  "
      ]
     },
     "execution_count": 4,
     "metadata": {},
     "output_type": "execute_result"
    }
   ],
   "source": [
    "data.describe()"
   ]
  },
  {
   "cell_type": "code",
   "execution_count": 5,
   "metadata": {},
   "outputs": [
    {
     "data": {
      "image/png": "[encoded data removed]",
      "text/plain": [
       "<Figure size 1440x2160 with 20 Axes>"
      ]
     },
     "metadata": {
      "needs_background": "light"
     },
     "output_type": "display_data"
    }
   ],
   "source": [
    "data.hist(figsize=(20,30))\n",
    "plt.show()"
   ]
  },
  {
   "cell_type": "code",
   "execution_count": 6,
   "metadata": {},
   "outputs": [],
   "source": [
    "data.drop('wind_gust', axis=1, inplace=True)\n",
    "data.drop('flight', axis=1, inplace=True)\n",
    "data.drop('tailnum', axis=1, inplace=True)\n",
    "data.drop('engines', axis=1, inplace=True)\n",
    "data = data.dropna()"
   ]
  },
  {
   "cell_type": "code",
   "execution_count": 7,
   "metadata": {},
   "outputs": [
    {
     "data": {
      "text/html": [
       "<div>\n",
       "<style scoped>\n",
       "    .dataframe tbody tr th:only-of-type {\n",
       "        vertical-align: middle;\n",
       "    }\n",
       "\n",
       "    .dataframe tbody tr th {\n",
       "        vertical-align: top;\n",
       "    }\n",
       "\n",
       "    .dataframe thead th {\n",
       "        text-align: right;\n",
       "    }\n",
       "</style>\n",
       "<table border=\"1\" class=\"dataframe\">\n",
       "  <thead>\n",
       "    <tr style=\"text-align: right;\">\n",
       "      <th></th>\n",
       "      <th>carrier</th>\n",
       "      <th>origin</th>\n",
       "      <th>dest</th>\n",
       "      <th>air_time</th>\n",
       "      <th>distance</th>\n",
       "      <th>hour</th>\n",
       "      <th>minute</th>\n",
       "      <th>temp</th>\n",
       "      <th>dewp</th>\n",
       "      <th>humid</th>\n",
       "      <th>...</th>\n",
       "      <th>wind_speed</th>\n",
       "      <th>precip</th>\n",
       "      <th>pressure</th>\n",
       "      <th>visib</th>\n",
       "      <th>type</th>\n",
       "      <th>manufacturer</th>\n",
       "      <th>model</th>\n",
       "      <th>seats</th>\n",
       "      <th>engine</th>\n",
       "      <th>arr_delay</th>\n",
       "    </tr>\n",
       "  </thead>\n",
       "  <tbody>\n",
       "    <tr>\n",
       "      <th>0</th>\n",
       "      <td>B6</td>\n",
       "      <td>JFK</td>\n",
       "      <td>FLL</td>\n",
       "      <td>135.0</td>\n",
       "      <td>1069</td>\n",
       "      <td>21</td>\n",
       "      <td>50</td>\n",
       "      <td>73.04</td>\n",
       "      <td>66.92</td>\n",
       "      <td>81.14</td>\n",
       "      <td>...</td>\n",
       "      <td>13.80936</td>\n",
       "      <td>0.0</td>\n",
       "      <td>1019.4</td>\n",
       "      <td>10.0</td>\n",
       "      <td>Fixed wing multi engine</td>\n",
       "      <td>AIRBUS</td>\n",
       "      <td>A320-232</td>\n",
       "      <td>200.0</td>\n",
       "      <td>Turbo-fan</td>\n",
       "      <td>1.0</td>\n",
       "    </tr>\n",
       "    <tr>\n",
       "      <th>1</th>\n",
       "      <td>DL</td>\n",
       "      <td>JFK</td>\n",
       "      <td>LAS</td>\n",
       "      <td>287.0</td>\n",
       "      <td>2248</td>\n",
       "      <td>15</td>\n",
       "      <td>35</td>\n",
       "      <td>71.06</td>\n",
       "      <td>42.98</td>\n",
       "      <td>36.28</td>\n",
       "      <td>...</td>\n",
       "      <td>14.96014</td>\n",
       "      <td>0.0</td>\n",
       "      <td>1020.4</td>\n",
       "      <td>10.0</td>\n",
       "      <td>Fixed wing multi engine</td>\n",
       "      <td>BOEING</td>\n",
       "      <td>737-832</td>\n",
       "      <td>189.0</td>\n",
       "      <td>Turbo-jet</td>\n",
       "      <td>0.0</td>\n",
       "    </tr>\n",
       "  </tbody>\n",
       "</table>\n",
       "<p>2 rows × 21 columns</p>\n",
       "</div>"
      ],
      "text/plain": [
       "  carrier origin dest  air_time  distance  hour  minute   temp   dewp  humid  \\\n",
       "0      B6    JFK  FLL     135.0      1069    21      50  73.04  66.92  81.14   \n",
       "1      DL    JFK  LAS     287.0      2248    15      35  71.06  42.98  36.28   \n",
       "\n",
       "   ...  wind_speed  precip  pressure  visib                     type  \\\n",
       "0  ...    13.80936     0.0    1019.4   10.0  Fixed wing multi engine   \n",
       "1  ...    14.96014     0.0    1020.4   10.0  Fixed wing multi engine   \n",
       "\n",
       "  manufacturer     model  seats     engine arr_delay  \n",
       "0       AIRBUS  A320-232  200.0  Turbo-fan       1.0  \n",
       "1       BOEING   737-832  189.0  Turbo-jet       0.0  \n",
       "\n",
       "[2 rows x 21 columns]"
      ]
     },
     "execution_count": 7,
     "metadata": {},
     "output_type": "execute_result"
    }
   ],
   "source": [
    "data.head(2)"
   ]
  },
  {
   "cell_type": "markdown",
   "metadata": {},
   "source": [
    "### Spliting the data"
   ]
  },
  {
   "cell_type": "code",
   "execution_count": 8,
   "metadata": {},
   "outputs": [],
   "source": [
    "X_training, X_test, y_training, y_test = train_test_split(data.iloc[:,:-1], data.iloc[:,-1],\n",
    "                                                          test_size=0.1,\n",
    "                                                          random_state = 42)"
   ]
  },
  {
   "cell_type": "markdown",
   "metadata": {},
   "source": [
    "### Creating Pipeline"
   ]
  },
  {
   "cell_type": "code",
   "execution_count": 9,
   "metadata": {},
   "outputs": [
    {
     "data": {
      "text/plain": [
       "ColumnTransformer(transformers=[('proc_numeric',\n",
       "                                 Pipeline(steps=[('standardize_num',\n",
       "                                                  StandardScaler())]),\n",
       "                                 ['air_time', 'distance', 'temp', 'dewp',\n",
       "                                  'humid', 'wind_dir', 'wind_speed', 'precip',\n",
       "                                  'pressure', 'visib', 'seats']),\n",
       "                                ('create_dummies',\n",
       "                                 Pipeline(steps=[('create_dummies_cats',\n",
       "                                                  OneHotEncoder(handle_unknown='ignore'))]),\n",
       "                                 ['carrier', 'origin', 'dest', 'hour', 'minute',\n",
       "                                  'type', 'manufacturer', 'engine'])])"
      ]
     },
     "execution_count": 9,
     "metadata": {},
     "output_type": "execute_result"
    }
   ],
   "source": [
    "cat_columns = ['carrier','origin','dest','hour','minute','type','manufacturer','engine']\n",
    "num_columns = ['air_time','distance','temp','dewp','humid','wind_dir','wind_speed','precip','pressure','visib','seats']\n",
    "\n",
    "num_pipeline = Pipeline([('standardize_num', StandardScaler()),\n",
    "                        ])\n",
    "\n",
    "cat_pipeline = Pipeline([('create_dummies_cats', OneHotEncoder(handle_unknown='ignore'))\n",
    "                         ])\n",
    "\n",
    "processing_pipeline = ColumnTransformer(transformers=[('proc_numeric', num_pipeline, num_columns),\n",
    "                                                      ('create_dummies', cat_pipeline, cat_columns)])\n",
    "\n",
    "processing_pipeline"
   ]
  },
  {
   "cell_type": "markdown",
   "metadata": {},
   "source": [
    "### Creating model"
   ]
  },
  {
   "cell_type": "code",
   "execution_count": 10,
   "metadata": {},
   "outputs": [],
   "source": [
    "clf1 = LogisticRegression(max_iter=5000)\n",
    "clf2 = DecisionTreeClassifier()\n",
    "clf3 = SVC(class_weight='balanced',probability=True)\n",
    "\n",
    "pipe1 = Pipeline([('data_processing', processing_pipeline),('logreg', clf1)])\n",
    "pipe2 = Pipeline([('data_processing', processing_pipeline),('tree', clf2)])\n",
    "pipe3 = Pipeline([('data_processing', processing_pipeline),('svc', clf3)])"
   ]
  },
  {
   "cell_type": "code",
   "execution_count": 11,
   "metadata": {
    "scrolled": true
   },
   "outputs": [],
   "source": [
    "param_grid_lr= [\n",
    "  {'logreg__class_weight': [None, 'balanced'], 'logreg__C':[0.01, 0.1, 1, 10, 100],'logreg__solver':['liblinear','sag','saga']}\n",
    " ]\n",
    "gcv_lr = GridSearchCV(estimator=pipe1, param_grid=param_grid_lr, scoring=['accuracy'], cv=10, refit='accuracy')\n",
    "gcv_lr = gcv_lr.fit(X_training, y_training)"
   ]
  },
  {
   "cell_type": "code",
   "execution_count": 12,
   "metadata": {},
   "outputs": [
    {
     "name": "stdout",
     "output_type": "stream",
     "text": [
      "[[375 165]\n",
      " [ 55 130]]\n"
     ]
    }
   ],
   "source": [
    "y_test_pred_lr = gcv_lr.predict(X_test)\n",
    "print(confusion_matrix(y_test_pred_lr, y_test))"
   ]
  },
  {
   "cell_type": "markdown",
   "metadata": {},
   "source": [
    "### Observations\n",
    "- The Accuracy of logistic regression model is 69.65%."
   ]
  },
  {
   "cell_type": "code",
   "execution_count": 13,
   "metadata": {},
   "outputs": [],
   "source": [
    "param_grid_tree = [\n",
    "  {'tree__max_depth': [2, 5, 10, 15, 20],\n",
    "   'tree__min_samples_split':[3, 5, 10, 20, 40],\n",
    "   'tree__min_samples_leaf': [2, 5],\n",
    "   'tree__class_weight':[None, 'balanced']\n",
    "  }\n",
    " ]\n",
    "\n",
    "gcv_tree = GridSearchCV(estimator=pipe2, param_grid=param_grid_tree, scoring='accuracy', refit=True)\n",
    "gcv_tree = gcv_tree.fit(X_training, y_training)\n"
   ]
  },
  {
   "cell_type": "code",
   "execution_count": 14,
   "metadata": {},
   "outputs": [
    {
     "name": "stdout",
     "output_type": "stream",
     "text": [
      "[[407 247]\n",
      " [ 23  48]]\n"
     ]
    }
   ],
   "source": [
    "y_test_pred_tree = gcv_tree.predict(X_test)\n",
    "print(confusion_matrix(y_test_pred_tree, y_test))"
   ]
  },
  {
   "cell_type": "markdown",
   "metadata": {},
   "source": [
    "### Observations\n",
    "- The Accuracy of Decision tree model is 62.75%"
   ]
  },
  {
   "cell_type": "code",
   "execution_count": null,
   "metadata": {},
   "outputs": [],
   "source": [
    "param_grid_svc = {'svc__kernel': ['linear', 'rbf'], 'svc__C': [0.01, 0.1, 1, 10]}\n",
    "\n",
    "gcv_svc = GridSearchCV(estimator=pipe3, param_grid=param_grid_svc, scoring='accuracy', refit=True)\n",
    "gcv_svc = gcv_svc.fit(X_training, y_training)\n"
   ]
  },
  {
   "cell_type": "code",
   "execution_count": 16,
   "metadata": {},
   "outputs": [
    {
     "name": "stdout",
     "output_type": "stream",
     "text": [
      "[[300 113]\n",
      " [130 182]]\n"
     ]
    }
   ],
   "source": [
    "y_test_pred_svc = gcv_svc.predict(X_test)\n",
    "print(confusion_matrix(y_test_pred_svc, y_test))"
   ]
  },
  {
   "cell_type": "markdown",
   "metadata": {},
   "source": [
    "### Observations\n",
    "- The Accuracy of support vector model is 66.48%"
   ]
  },
  {
   "cell_type": "markdown",
   "metadata": {},
   "source": [
    "### Ensembling Models"
   ]
  },
  {
   "cell_type": "code",
   "execution_count": 17,
   "metadata": {},
   "outputs": [
    {
     "name": "stdout",
     "output_type": "stream",
     "text": [
      "ROC AUC 0.71 (+/- 0.03) [Logistic Regression]\n",
      "ROC AUC 0.56 (+/- 0.02) [Decision Tree]\n",
      "ROC AUC 0.68 (+/- 0.03) [SVC]\n"
     ]
    }
   ],
   "source": [
    "labs = ['Logistic Regression', 'Decision Tree', 'SVC']\n",
    "clfs = [pipe1, pipe2, pipe3]\n",
    "clfs = zip(labs, clfs)\n",
    "\n",
    "for lab, clf in clfs:\n",
    "    scores = cross_val_score(estimator=clf, X=X_training, y=y_training, cv=10, scoring='roc_auc')\n",
    "    print(f'ROC AUC {scores.mean():.2f} (+/- {scores.std():.2f}) [{lab}]')"
   ]
  },
  {
   "cell_type": "code",
   "execution_count": 18,
   "metadata": {},
   "outputs": [
    {
     "name": "stdout",
     "output_type": "stream",
     "text": [
      "ROC AUC 0.67 (+/- 0.03) [Ensemble]\n"
     ]
    }
   ],
   "source": [
    "ems = [('lr', pipe1),('dt', pipe2),('svc', pipe3)]\n",
    "clf4 = VotingClassifier(estimators= ems, weights=None, voting='soft')\n",
    "\n",
    "scores = cross_val_score(estimator=clf4, X=X_training, y=y_training, cv=10, scoring='roc_auc')\n",
    "print(f'ROC AUC {scores.mean():.2f} (+/- {scores.std():.2f}) [Ensemble]')"
   ]
  },
  {
   "cell_type": "code",
   "execution_count": 24,
   "metadata": {},
   "outputs": [
    {
     "name": "stdout",
     "output_type": "stream",
     "text": [
      "VotingClassifier Test ROC AUC: 73.39%\n"
     ]
    }
   ],
   "source": [
    "params = {'lr__logreg__C':[0.001, 0.1, 1, 10], \n",
    "          'dt__tree__max_depth': [1,2,3], \n",
    "          'svc__kernel': ['linear', 'rbf'], 'svc__C': [0.01, 0.1, 1, 10]\n",
    "         }\n",
    "\n",
    "vc_gs = GridSearchCV(estimator=clf4, param_grid=params, scoring='roc_auc', refit=True)\n",
    "vc_gs = vc_gs.fit(X_training, y_training)\n",
    "vc_gs_score = vc_gs.score(X_test, y_test)\n",
    "\n",
    "print(f'VotingClassifier Test ROC AUC: {vc_gs_score:.2%}')"
   ]
  },
  {
   "cell_type": "markdown",
   "metadata": {},
   "source": [
    "### Observations\n",
    "- The ROC socre of the ensembled model is 73.39% which is higher than the logitic regression, decision tree, support vector models."
   ]
  },
  {
   "cell_type": "markdown",
   "metadata": {},
   "source": [
    "### AdaBoostClassifier"
   ]
  },
  {
   "cell_type": "code",
   "execution_count": 37,
   "metadata": {},
   "outputs": [],
   "source": [
    "tree = DecisionTreeClassifier(criterion='entropy', random_state=1, max_depth=1)\n",
    "abc = AdaBoostClassifier(base_estimator=tree, n_estimators=500, learning_rate=0.1, random_state=1)\n",
    "pipe4 = Pipeline([('data_processing', processing_pipeline),('tree', abc)])\n",
    "pipe4.fit(X_training,y_training)\n",
    "abc_predicted = pipe4.predict(X_test)"
   ]
  },
  {
   "cell_type": "code",
   "execution_count": 38,
   "metadata": {},
   "outputs": [
    {
     "data": {
      "text/plain": [
       "0.641"
      ]
     },
     "execution_count": 38,
     "metadata": {},
     "output_type": "execute_result"
    }
   ],
   "source": [
    "from sklearn.metrics import roc_auc_score\n",
    "roc_auc_score(abc_predicted,y_test)"
   ]
  },
  {
   "cell_type": "markdown",
   "metadata": {},
   "source": [
    "### Observations\n",
    "- The ROC socre of AdaBoost is 64.1% which is greater than that of decision tree model, but less than logistic regression and support vector model."
   ]
  },
  {
   "cell_type": "code",
   "execution_count": null,
   "metadata": {},
   "outputs": [],
   "source": []
  }
 ],
 "metadata": {
  "kernelspec": {
   "display_name": "Python 3",
   "language": "python",
   "name": "python3"
  },
  "language_info": {
   "codemirror_mode": {
    "name": "ipython",
    "version": 3
   },
   "file_extension": ".py",
   "mimetype": "text/x-python",
   "name": "python",
   "nbconvert_exporter": "python",
   "pygments_lexer": "ipython3",
   "version": "3.8.5"
  }
 },
 "nbformat": 4,
 "nbformat_minor": 4
}
